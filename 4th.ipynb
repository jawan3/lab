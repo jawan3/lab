{
 "cells": [
  {
   "cell_type": "code",
   "execution_count": 3,
   "metadata": {},
   "outputs": [
    {
     "name": "stdout",
     "output_type": "stream",
     "text": [
      "[INFO] training perceptron...\n",
      "[INFO] testing perceptron...\n",
      "[INFO] data=[0 0], ground-truth=0, pred=0\n",
      "[INFO] data=[0 1], ground-truth=1, pred=1\n",
      "[INFO] data=[1 0], ground-truth=1, pred=1\n",
      "[INFO] data=[1 1], ground-truth=1, pred=1\n",
      "[ 0.3  1.  -0.2]\n"
     ]
    }
   ],
   "source": [
    "import numpy as np\n",
    "class Perceptron:\n",
    "\tdef __init__(self, N, alpha=0.2):\n",
    "\t\t\n",
    "\t\tself.W = [-1.5,1,1]\n",
    "\t\tself.alpha = alpha\n",
    "\n",
    "\tdef step(self, x):\n",
    "\t\t\n",
    "\t\treturn 1 if x > 0 else 0\n",
    "\t\n",
    "\tdef fit(self, X, y, epochs=20):\n",
    "\t\t\n",
    "\t\tX = np.c_[X, np.ones((X.shape[0]))]\n",
    "\n",
    "\t\tfor epoch in np.arange(0, epochs):\n",
    "\n",
    "\t\t\tfor (x, target) in zip(X, y):\n",
    "\t\t\t\tp = self.step(np.dot(x, self.W))\n",
    "\t\t\t\t\t\t\n",
    "\t\t\t\tif p != target:\n",
    "\n",
    "\t\t\t\t\terror = p - target\n",
    "\t\t\t\t\tself.W += -self.alpha * error * x\n",
    "\n",
    "\tdef predict(self, X, addBias=True):\n",
    "\t\n",
    "\t\tX = np.atleast_2d(X)\n",
    "\t\n",
    "\t\tif addBias:\n",
    "\t\t\n",
    "\t\t\tX = np.c_[X, np.ones((X.shape[0]))]\n",
    "\t\n",
    "\t\treturn self.step(np.dot(X, self.W))\n",
    "\n",
    "\n",
    "\n",
    "X = np.array([[0, 0], [0, 1], [1, 0], [1, 1]])\n",
    "y = np.array([[0], [1], [1], [1]])\n",
    "\n",
    "print(\"[INFO] training perceptron...\")\n",
    "p = Perceptron(X.shape[1], alpha=0.2)\n",
    "p.fit(X, y, epochs=20)\n",
    "\n",
    "print(\"[INFO] testing perceptron...\")\n",
    "\n",
    "for (x, target) in zip(X, y):\n",
    "\n",
    "\tpred = p.predict(x)\n",
    "\tprint(\"[INFO] data={}, ground-truth={}, pred={}\".format(\n",
    "\t\tx, target[0], pred))\n",
    "\n",
    "print(p.W)"
   ]
  }
 ],
 "metadata": {
  "kernelspec": {
   "display_name": "base",
   "language": "python",
   "name": "python3"
  },
  "language_info": {
   "codemirror_mode": {
    "name": "ipython",
    "version": 3
   },
   "file_extension": ".py",
   "mimetype": "text/x-python",
   "name": "python",
   "nbconvert_exporter": "python",
   "pygments_lexer": "ipython3",
   "version": "3.7.6"
  }
 },
 "nbformat": 4,
 "nbformat_minor": 2
}
