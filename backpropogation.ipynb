{
 "cells": [
  {
   "cell_type": "code",
   "execution_count": 15,
   "metadata": {},
   "outputs": [
    {
     "name": "stdout",
     "output_type": "stream",
     "text": [
      "Epoch 1:\n",
      "Weights1: [[0.09990082 0.39970086]\n",
      " [0.79974496 0.59923078]]\n",
      "Weights2: [[0.29712073]\n",
      " [0.89719069]]\n",
      "\n",
      "\n",
      "Epoch 2:\n",
      "Weights1: [[0.099803   0.39940389]\n",
      " [0.79949343 0.59846716]]\n",
      "Weights2: [[0.29425384]\n",
      " [0.89439397]]\n",
      "\n",
      "\n"
     ]
    }
   ],
   "source": [
    "import numpy as np\n",
    "\n",
    "def sigmoid(x):\n",
    "  return 1 / (1 + np.exp(-x))\n",
    "\n",
    "def derivative_sigmoid(x):\n",
    "  return sigmoid(x) * (1 - sigmoid(x))\n",
    "\n",
    "class NeuralNetwork:\n",
    "  def __init__(self, input_size, hidden_size, output_size, learning_rate):\n",
    "    self.input_size = input_size\n",
    "    self.hidden_size = hidden_size\n",
    "    self.output_size = output_size\n",
    "    self.learning_rate = learning_rate\n",
    "\n",
    "    \n",
    "    self.weights1 = np.array([[0.1, 0.4], [0.8, 0.6]])\n",
    "    self.weights2 = np.array([[0.3], [0.9]])\n",
    "\n",
    "  def forward_pass(self, X):\n",
    "    hidden_layer_activation = sigmoid(np.dot(X, self.weights1))\n",
    "    output_layer_activation = sigmoid(np.dot(hidden_layer_activation, self.weights2))\n",
    "    return hidden_layer_activation, output_layer_activation\n",
    "\n",
    "  def backward_pass(self, X, y, hidden_layer_activation, output_layer_activation):\n",
    "    output_error = output_layer_activation - y\n",
    "    output_delta = output_error * derivative_sigmoid(output_layer_activation)\n",
    "    hidden_error = np.dot(output_delta, self.weights2.T) * derivative_sigmoid(hidden_layer_activation)\n",
    "    weights1_gradient = np.dot(X.T, hidden_error)\n",
    "    weights2_gradient = np.dot(hidden_layer_activation.T, output_delta)\n",
    "    return weights1_gradient, weights2_gradient\n",
    "\n",
    "  def update_weights(self, weights1_gradient, weights2_gradient):\n",
    "    self.weights1 -= self.learning_rate * weights1_gradient\n",
    "    self.weights2 -= self.learning_rate * weights2_gradient\n",
    "\n",
    "  def train(self, X, y, epochs):\n",
    "    for epoch in range(epochs):\n",
    "      hidden_layer_activation, output_layer_activation = self.forward_pass(X)\n",
    "      weights1_gradient, weights2_gradient = self.backward_pass(X, y, hidden_layer_activation, output_layer_activation)\n",
    "      self.update_weights(weights1_gradient, weights2_gradient)\n",
    "\n",
    "      \n",
    "      print(f\"Epoch {epoch+1}:\")\n",
    "      print(f\"Weights1: {self.weights1}\")\n",
    "      print(f\"Weights2: {self.weights2}\")\n",
    "      print(\"\\n\")\n",
    "\n",
    "\n",
    "nn = NeuralNetwork(2, 2, 1, 0.1)  # 2 inputs, 2 hidden neurons, 1 output\n",
    "\n",
    "\n",
    "input_data = np.array([0.35, 0.9])\n",
    "target_output = 0.5\n",
    "\n",
    "nn.train(input_data.reshape(1, 2), target_output, 2) \n"
   ]
  },
  {
   "cell_type": "code",
   "execution_count": null,
   "metadata": {},
   "outputs": [],
   "source": []
  }
 ],
 "metadata": {
  "kernelspec": {
   "display_name": "base",
   "language": "python",
   "name": "python3"
  },
  "language_info": {
   "codemirror_mode": {
    "name": "ipython",
    "version": 3
   },
   "file_extension": ".py",
   "mimetype": "text/x-python",
   "name": "python",
   "nbconvert_exporter": "python",
   "pygments_lexer": "ipython3",
   "version": "3.7.6"
  }
 },
 "nbformat": 4,
 "nbformat_minor": 2
}
