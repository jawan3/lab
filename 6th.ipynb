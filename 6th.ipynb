{
 "cells": [
  {
   "cell_type": "code",
   "execution_count": 1,
   "metadata": {},
   "outputs": [
    {
     "name": "stdout",
     "output_type": "stream",
     "text": [
      "a1 =  [0.62245933] a2 =  [0.73105858] Output =  0.5966198564347647\n",
      "Class: 1\n",
      "a1 =  [0.64565631] a2 =  [0.95257413] Output =  0.5481211384031482\n",
      "Class: 1\n"
     ]
    }
   ],
   "source": [
    "import numpy as np\n",
    "\n",
    "def sigmoid(x):\n",
    "    return 1.0/(1.0 + np.exp(-x))\n",
    "\n",
    "def sigmoid_der(x):\n",
    "    return x*(1.0 - x)\n",
    "\n",
    "class NN:\n",
    "    def __init__(self, inputs):\n",
    "        self.inputs = inputs\n",
    "        self.l=len(self.inputs)\n",
    "        self.li=len(self.inputs[0])\n",
    "\n",
    "        self.wi=[0.5,0.7,-0.6,1,1,1]\n",
    "        self.wh=[-0.5,-1,1]\n",
    "\n",
    "    def think(self, inp):\n",
    "        s1=sigmoid(np.dot(inp, self.wi))\n",
    "        s2=sigmoid(np.dot(s1, self.wh))\n",
    "        return s2\n",
    "\n",
    "    def train(self, inputs, it):\n",
    "        for i in range(it):\n",
    "            l0=np.c_[np.ones((inputs.shape[0])), inputs]\n",
    "            l1=sigmoid(np.dot(l0, self.wi[0:3]))\n",
    "            l2=sigmoid(np.dot(l0, self.wi[3:6]))\n",
    "            l4=(1.0/(1.0 + np.exp(np.dot([1,l1[0],l2[0]],self.wh))))\n",
    "            print(\"a1 = \",l1,\"a2 = \",l2,\"Output = \",l4)\n",
    "            if(l4<=0.5):\n",
    "                print(\"Class: 0\")\n",
    "            else:\n",
    "                print(\"Class: 1\")\n",
    "\n",
    "inputs=np.array([[0,0]])\n",
    "#outputs=np.array([ [0], [1],[1],[0] ])\n",
    "\n",
    "n=NN(inputs)\n",
    "n.train(inputs,1)\n",
    "\n",
    "inputs=np.array([[1,1]])\n",
    "#outputs=np.array([ [0], [1],[1],[0] ])\n",
    "\n",
    "n=NN(inputs)\n",
    "n.train(inputs,1)"
   ]
  },
  {
   "cell_type": "code",
   "execution_count": null,
   "metadata": {},
   "outputs": [],
   "source": []
  }
 ],
 "metadata": {
  "kernelspec": {
   "display_name": "base",
   "language": "python",
   "name": "python3"
  },
  "language_info": {
   "codemirror_mode": {
    "name": "ipython",
    "version": 3
   },
   "file_extension": ".py",
   "mimetype": "text/x-python",
   "name": "python",
   "nbconvert_exporter": "python",
   "pygments_lexer": "ipython3",
   "version": "3.7.6"
  }
 },
 "nbformat": 4,
 "nbformat_minor": 2
}
