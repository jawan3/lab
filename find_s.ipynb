{
 "cells": [
  {
   "cell_type": "code",
   "execution_count": 14,
   "metadata": {},
   "outputs": [
    {
     "name": "stdout",
     "output_type": "stream",
     "text": [
      "\n",
      " The Given Training Data Set \n",
      "\n",
      "['Big', 'Red', 'Circle', 'No']\n",
      "['Small', 'Red', 'Triangle', 'No']\n",
      "['Small', 'Red', 'Circle', 'Yes']\n",
      "['Big', 'Blue', 'Circle', 'No']\n",
      "['Small', 'Blue', 'Circle', 'Yes']\n"
     ]
    }
   ],
   "source": [
    "import csv\n",
    "num_attributes = 3\n",
    "a = []\n",
    "print(\"\\n The Given Training Data Set \\n\")\n",
    "with open('../datasets/find-s.csv', 'r') as csvfile:\n",
    " reader = csv.reader(csvfile)\n",
    " for row in reader:\n",
    "    a.append (row)\n",
    "    print(row)\n"
   ]
  },
  {
   "cell_type": "code",
   "execution_count": 16,
   "metadata": {},
   "outputs": [
    {
     "name": "stdout",
     "output_type": "stream",
     "text": [
      "\n",
      " The initial value of hypothesis: \n",
      "['0', '0', '0']\n"
     ]
    }
   ],
   "source": [
    "print(\"\\n The initial value of hypothesis: \")\n",
    "hypothesis = ['0'] * num_attributes\n",
    "print(hypothesis)"
   ]
  },
  {
   "cell_type": "code",
   "execution_count": 26,
   "metadata": {},
   "outputs": [
    {
     "name": "stdout",
     "output_type": "stream",
     "text": [
      "['Small', 'Red', 'Circle']\n",
      "\n",
      " Find S: Finding a Maximally Specific Hypothesis\n",
      "\n",
      " For Training instance No:0 the hypothesis is ['Small', 'Red', 'Circle']\n",
      " For Training instance No:1 the hypothesis is ['Small', 'Red', 'Circle']\n",
      " For Training instance No:2 the hypothesis is ['Small', 'Red', 'Circle']\n",
      " For Training instance No:3 the hypothesis is ['Small', 'Red', 'Circle']\n",
      " For Training instance No:4 the hypothesis is ['Small', '?', 'Circle']\n",
      "\n",
      " The Maximally Specific Hypothesis for a given TrainingExamples :\n",
      "\n",
      "['Small', '?', 'Circle']\n"
     ]
    }
   ],
   "source": [
    "for i in range(0,len(a)):\n",
    "    if a[i][-1] == 'Yes':\n",
    "        for j in range(0,num_attributes):\n",
    "            hypothesis[j] = a[i][j];\n",
    "        break\n",
    "\n",
    "print(hypothesis)\n",
    "\n",
    "print(\"\\n Find S: Finding a Maximally Specific Hypothesis\\n\")\n",
    "for i in range(0,len(a)):\n",
    "    if a[i][num_attributes]=='Yes':\n",
    "        for j in range(0,num_attributes):\n",
    "            if a[i][j]!=hypothesis[j]:\n",
    "                hypothesis[j]='?'\n",
    "            else :\n",
    "                hypothesis[j]= a[i][j]\n",
    "    print(\" For Training instance No:{0} the hypothesis is\".format(i),hypothesis)\n",
    "\n",
    "print(\"\\n The Maximally Specific Hypothesis for a given TrainingExamples :\\n\")\n",
    "print(hypothesis)"
   ]
  },
  {
   "cell_type": "code",
   "execution_count": null,
   "metadata": {},
   "outputs": [],
   "source": []
  }
 ],
 "metadata": {
  "kernelspec": {
   "display_name": "Python 3",
   "language": "python",
   "name": "python3"
  },
  "language_info": {
   "codemirror_mode": {
    "name": "ipython",
    "version": 3
   },
   "file_extension": ".py",
   "mimetype": "text/x-python",
   "name": "python",
   "nbconvert_exporter": "python",
   "pygments_lexer": "ipython3",
   "version": "3.7.6"
  }
 },
 "nbformat": 4,
 "nbformat_minor": 2
}
